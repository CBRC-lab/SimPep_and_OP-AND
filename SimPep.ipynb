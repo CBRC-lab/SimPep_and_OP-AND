{
  "cells": [
    {
      "cell_type": "markdown",
      "metadata": {
        "id": "5WyK-SOaWwIw"
      },
      "source": [
        "# Configuration file creation"
      ]
    },
    {
      "cell_type": "code",
      "execution_count": null,
      "metadata": {
        "id": "-h0SfpoXtEZr",
        "colab": {
          "base_uri": "https://localhost:8080/"
        },
        "outputId": "5695bc1d-337c-42ed-dbbf-0f17c927cf04"
      },
      "outputs": [
        {
          "output_type": "stream",
          "name": "stdout",
          "text": [
            "Drive already mounted at /content/drive; to attempt to forcibly remount, call drive.mount(\"/content/drive\", force_remount=True).\n"
          ]
        }
      ],
      "source": [
        "import numpy as np\n",
        "import tensorflow as tf\n",
        "from sklearn.model_selection import train_test_split\n",
        "import random\n",
        "from google.colab import drive\n",
        "drive.mount('/content/drive')\n",
        "import pandas as pd\n",
        "from sklearn import metrics\n",
        "from sklearn.metrics import confusion_matrix\n",
        "from tensorflow.keras.layers import Input\n",
        "from tensorflow.keras import backend as K\n",
        "from tensorflow.keras.optimizers import Adam, SGD\n",
        "from tensorflow.keras.utils import plot_model\n"
      ]
    },
    {
      "cell_type": "markdown",
      "metadata": {
        "id": "21sm_CW_s5gd"
      },
      "source": [
        "# Functions"
      ]
    },
    {
      "cell_type": "code",
      "execution_count": null,
      "metadata": {
        "id": "N4arnRQaZScq"
      },
      "outputs": [],
      "source": [
        "#\n",
        "def makedatasetPos(data):\n",
        "  dataset=[]\n",
        "  label=[]\n",
        "  for i in range(len(data)):\n",
        "    for j in range(i+1,len(data)):\n",
        "      dataset.append(np.concatenate((data[i],data[j]), axis=None))\n",
        "      label.append(1)\n",
        "      #dataset.append(np.concatenate((data[j],data[i]), axis=None))\n",
        "      #label.append(1)\n",
        "  return(dataset,label)"
      ]
    },
    {
      "cell_type": "code",
      "execution_count": null,
      "metadata": {
        "id": "-qUrMMrsaTh6"
      },
      "outputs": [],
      "source": [
        "\n",
        "def makedatasetNeg(data1,data2):\n",
        "  dataset=[]\n",
        "  label=[]\n",
        "  for i in range(len(data1)):\n",
        "    for j in range(len(data2)):\n",
        "      dataset.append(np.concatenate((data1[i],data2[j]), axis=None))\n",
        "      label.append(0)\n",
        "      #dataset.append(np.concatenate((data2[j],data1[i]), axis=None))\n",
        "      #label.append(0)\n",
        "  return(dataset,label)"
      ]
    },
    {
      "cell_type": "code",
      "execution_count": null,
      "metadata": {
        "id": "4a0Ge_v4-Jrp"
      },
      "outputs": [],
      "source": [
        "def InternalTest(x1_test,x0_test):\n",
        "  dataset_test2=[]    #concat test\n",
        "  label_test2=[]\n",
        "  for i in range(len(x0_test)):\n",
        "    for j in range(i+1,len(x0_test)):\n",
        "      dataset_test2.append(np.concatenate((x0_test[i],x0_test[j]), axis=None))\n",
        "      label_test2.append(1)\n",
        "\n",
        "  for i in range(len(x1_test)):\n",
        "    for j in range(i+1,len(x1_test)):\n",
        "      dataset_test2.append(np.concatenate((x1_test[i],x1_test[j]), axis=None))\n",
        "      label_test2.append(1)\n",
        "\n",
        "  for i in range(len(x0_test)):\n",
        "    for j in range(len(x1_test)):\n",
        "      dataset_test2.append(np.concatenate((x0_test[i],x1_test[j]), axis=None))\n",
        "      label_test2.append(0)\n",
        "  return(np.asarray(dataset_test2),np.asarray(label_test2))\n"
      ]
    },
    {
      "cell_type": "code",
      "execution_count": null,
      "metadata": {
        "id": "KCSjCVGi48sP"
      },
      "outputs": [],
      "source": [
        "def MakeDatasetforTrain(P1,P0,N,LP1,LP0,LN):\n",
        "  TempP0=[]\n",
        "  TempL0=[]\n",
        "  i=0\n",
        "  while(i<len(P1)):\n",
        "    l=random.randint(0,len(P0)-1)\n",
        "    TempP0.append(P0[l])\n",
        "    TempL0.append(LP0[l])\n",
        "    i=i+1\n",
        "  print('P1',len(P1), 'P0', len(TempP0))\n",
        "  train=np.copy(np.append(P1,TempP0,axis=0))\n",
        "  label=np.copy(np.append(LP1,TempL0))\n",
        "\n",
        "  TempN=[]\n",
        "  TempLN=[]\n",
        "  while(len(TempN)<len(train)):\n",
        "    l=random.randint(0,len(N)-1)\n",
        "    TempN.append(N[l])\n",
        "    TempLN.append(LN[l])\n",
        "\n",
        "  train=np.copy(np.append(train,TempN,axis=0))\n",
        "  label=np.copy(np.append(label,TempLN))\n",
        "\n",
        "  return(train,label)\n"
      ]
    },
    {
      "cell_type": "code",
      "execution_count": null,
      "metadata": {
        "id": "2ZxB6BY0k4_p"
      },
      "outputs": [],
      "source": [
        "def ExternalTest(x0_test,x1_test,x0_train,x1_train):\n",
        "  dataset_test1=[] # concat train\n",
        "  label_test1=[]\n",
        "  Indexsample=[]\n",
        "  for i in range(len(x0_test)):\n",
        "    for j in range(len(x0_train)):\n",
        "      dataset_test1.append(np.concatenate((x0_test[i],x0_train[j]), axis=None))\n",
        "      label_test1.append(1)\n",
        "      Indexsample.append(str(i)+\",0,0\")   #index in test,x0_test,x0_train\n",
        "  for i in range(len(x0_test)):\n",
        "    for j in range(len(x1_train)):\n",
        "      dataset_test1.append(np.concatenate((x0_test[i],x1_train[j]), axis=None))\n",
        "      label_test1.append(0)\n",
        "      Indexsample.append(str(i)+\",0,1\")   #index in test,x0_test,x1_train\n",
        "  for i in range(len(x1_test)):\n",
        "    for j in range(len(x0_train)):\n",
        "      dataset_test1.append(np.concatenate((x1_test[i],x0_train[j]), axis=None))\n",
        "      label_test1.append(0)\n",
        "      Indexsample.append(str(i)+\",1,0\")  #index in test,x1_test,x0_train\n",
        "  for i in range(len(x1_test)):\n",
        "    for j in range(len(x1_train)):\n",
        "      dataset_test1.append(np.concatenate((x1_test[i],x1_train[j]), axis=None))\n",
        "      label_test1.append(1)\n",
        "      Indexsample.append(str(i)+\",1,1\")  #index in test,x1_test,x1_train\n",
        "  return(np.asarray(dataset_test1),np.asarray(label_test1),Indexsample)"
      ]
    },
    {
      "cell_type": "code",
      "execution_count": null,
      "metadata": {
        "id": "suGeUBgaezBu"
      },
      "outputs": [],
      "source": [
        "def DefineTest2(x0_test,x1_test,Indexsample,y_pred):\n",
        "  Pred=[]\n",
        "  Label=[]\n",
        "  for i in range(len(x0_test)):\n",
        "    cnt0Pred=0\n",
        "    cnt1Pred=0\n",
        "    cnt1=0\n",
        "    cnt0=0\n",
        "    for j in range(len(Indexsample)):\n",
        "      triplet=Indexsample[j].split(\",\")   #pair[0] is index from test, pair[1] identifies which test x0_test or s1_test, pair[2] identifies which x0\n",
        "      if int(triplet[0])==i: #intdex test\n",
        "        if int(triplet[1])==0: #type test\n",
        "          if int(triplet[2])==1: #type train\n",
        "              cnt1Pred=cnt1Pred+y_pred[j]\n",
        "              cnt1=cnt1+1\n",
        "          if int(triplet[2])==0: #type train\n",
        "              cnt0Pred=cnt0Pred+y_pred[j]\n",
        "              cnt0=cnt0+1\n",
        "    pos=(1-(cnt0Pred/cnt0))+(cnt1Pred/cnt1)\n",
        "    neg=(cnt0Pred/cnt0)+(1-(cnt1Pred/cnt1))\n",
        "    Pred.append(pos/(pos+neg))\n",
        "    Label.append(0)\n",
        "\n",
        "  for i in range(len(x1_test)):\n",
        "    cnt0Pred=0\n",
        "    cnt1Pred=0\n",
        "    cnt1=0\n",
        "    cnt0=0\n",
        "    for j in range(len(Indexsample)):\n",
        "      triplet=Indexsample[j].split(\",\")   #pair[0] is index from test, pair[1] identifies which test x0_test or s1_test, pair[2] identifies which x0\n",
        "      if int(triplet[0])==i: #intdex test\n",
        "        if int(triplet[1])==1: #type test\n",
        "          if int(triplet[2])==0: #type train\n",
        "              cnt0Pred=cnt0Pred+y_pred[j]\n",
        "              cnt0=cnt0+1\n",
        "          if int(triplet[2])==1: #type train\n",
        "              cnt1Pred=cnt1Pred+y_pred[j]\n",
        "              cnt1=cnt1+1\n",
        "    pos=(1-(cnt0Pred/cnt0))+(cnt1Pred/cnt1)\n",
        "    neg=(cnt0Pred/cnt0)+(1-(cnt1Pred/cnt1))\n",
        "    Pred.append(pos/(pos+neg))\n",
        "    Label.append(1)\n",
        "  return(Pred,Label)\n"
      ]
    },
    {
      "cell_type": "markdown",
      "source": [
        "## OPD Prediction\n"
      ],
      "metadata": {
        "id": "DwpqpMhtEVGk"
      }
    },
    {
      "cell_type": "code",
      "execution_count": null,
      "metadata": {
        "id": "DOVMLOUknA3p"
      },
      "outputs": [],
      "source": [
        "def RealTest(X,x0_train,x1_train):\n",
        "  dataset_test=[] # concat train\n",
        "  Indexsample=[]\n",
        "  for i in range(len(X)):\n",
        "    for j in range(len(x0_train)):\n",
        "      dataset_test.append(np.concatenate((X[i],x0_train[j]), axis=None))\n",
        "      Indexsample.append(str(i)+\",0\")   #index in test,x0_test,x0_train\n",
        "  for i in range(len(X)):\n",
        "    for j in range(len(x1_train)):\n",
        "      dataset_test.append(np.concatenate((X[i],x1_train[j]), axis=None))\n",
        "      Indexsample.append(str(i)+\",1\")   #index in test,x0_test,x1_train\n",
        "  return(np.asarray(dataset_test),Indexsample)\n"
      ]
    },
    {
      "cell_type": "code",
      "execution_count": null,
      "metadata": {
        "id": "41fvSn3yn7Ky"
      },
      "outputs": [],
      "source": [
        "def RealPredict1(X,test_pred,Indexsample):\n",
        "  Pred=[]\n",
        "  for i in range(len(X)):\n",
        "    cnt0Pred=0\n",
        "    cnt1Pred=0\n",
        "\n",
        "    for j in range(len(Indexsample)):\n",
        "      triplet=Indexsample[j].split(\",\")   #pair[0] is index from test, pair[1] identifies which test x0_test or s1_test, pair[2] identifies which x0\n",
        "\n",
        "      if int(triplet[0])==i: #intdex test\n",
        "          if int(triplet[1])==1: #type train\n",
        "            if test_pred[j]>=0.5: #type prediction\n",
        "              cnt1Pred=cnt1Pred+1\n",
        "            else:\n",
        "              cnt0Pred=cnt0Pred+1\n",
        "          if int(triplet[1])==0: #type train\n",
        "            if test_pred[j]>=0.5: #type prediction\n",
        "              cnt0Pred=cnt0Pred+1\n",
        "            else:\n",
        "              cnt1Pred=cnt1Pred+1\n",
        "\n",
        "    if cnt0Pred>cnt1Pred:\n",
        "      Pred.append(cnt0Pred)\n",
        "    else:\n",
        "      Pred.append(cnt1Pred)\n",
        "  return(Pred)\n"
      ]
    },
    {
      "cell_type": "code",
      "execution_count": null,
      "metadata": {
        "id": "6O8efORlw4F-"
      },
      "outputs": [],
      "source": [
        "\n",
        "def Accuracy(label_test, pred):\n",
        "\n",
        "  print('AUC: ', metrics.roc_auc_score(label_test, pred), 'AUPR: ', metrics.average_precision_score(label_test, pred))\n",
        "  for i  in range(len(pred)):\n",
        "    if pred[i]>=0.5:\n",
        "      pred[i]=1\n",
        "    else:\n",
        "      pred[i]=0\n",
        "  tn, fp, fn, tp = confusion_matrix(label_test, pred).ravel()\n",
        "  specificity = tn / (tn+fp)\n",
        "  sensitivity = tp / (tp + fn)\n",
        "  print('ACC:',metrics.accuracy_score(label_test, pred)*100,'Spc:',specificity,'Sen: ', sensitivity,'TN:',tn, 'FP: ', fp, 'FN',fn, 'TP',tp)\n"
      ]
    },
    {
      "cell_type": "code",
      "execution_count": null,
      "metadata": {
        "id": "o-2Ebaino_t5"
      },
      "outputs": [],
      "source": [
        "\n",
        "\n",
        "def SelectName(Pred,cutoff):\n",
        "  # dir3='/content/drive/MyDrive/ThesisStudent/Osta/21-4-1402/Abbass/After_Abbass_death/'\n",
        "  # f=open(dir3+'pep_name.txt')\n",
        "  f = open('/content/drive/MyDrive/Osta/21-4-1402/Abbass/After_Abbass_death/pep_name.txt')\n",
        "  i=0\n",
        "  dic1={}\n",
        "  for line in f:\n",
        "        line=line.strip()\n",
        "        if Pred[i]>=cutoff:\n",
        "          dic1[line]=Pred[i]\n",
        "          print(line , Pred[i])\n",
        "        i=i+1\n",
        "  f.close()"
      ]
    },
    {
      "cell_type": "markdown",
      "metadata": {
        "id": "TbbhjzkFsw_d"
      },
      "source": [
        "# Data"
      ]
    },
    {
      "cell_type": "markdown",
      "source": [
        "## Uploading OPs and Non-OPs"
      ],
      "metadata": {
        "id": "Vj5xqhJLCL-D"
      }
    },
    {
      "cell_type": "code",
      "execution_count": null,
      "metadata": {
        "id": "sQC0pQJx7WOK"
      },
      "outputs": [],
      "source": [
        "# vec_pos: the ProtBert-Based of OPs collected from OP-AND\n",
        "\n",
        "df_pos = pd.read_csv('vec_pos.txt', sep=\"\\t\", header=None)\n"
      ]
    },
    {
      "cell_type": "code",
      "execution_count": null,
      "metadata": {
        "id": "HwWmNOqVnD2u"
      },
      "outputs": [],
      "source": [
        "# vec_neg_Q5T9C2: the ProtBert-Based of NPP collected from Q5T9C2\n",
        "\n",
        "df_neg1 = pd.read_csv('vec_neg_Q5T9C2.txt', sep=\",\", header=None)"
      ]
    },
    {
      "cell_type": "code",
      "execution_count": null,
      "metadata": {
        "id": "8ZwsOyVqp2tC"
      },
      "outputs": [],
      "source": [
        "# vec_neg_Q5T9C2: the ProtBert-Based of NPP collected from Q9CWT3\n",
        "\n",
        "df_neg2 = pd.read_csv('vec_neg_Q9CWT3.txt', sep=\",\", header=None)"
      ]
    },
    {
      "cell_type": "code",
      "execution_count": null,
      "metadata": {
        "id": "F3kYY3DepVUg"
      },
      "outputs": [],
      "source": [
        "# vec_neg_O88942: the ProtBert-Based of NPP collected from O88942\n",
        "\n",
        "df_neg3 = pd.read_csv('/content/drive/MyDrive/Osta/21-4-1402/negative_O88942_bonloss_Embed.txt', sep=\",\", header=None)\n",
        "\n"
      ]
    },
    {
      "cell_type": "code",
      "source": [
        "# merging all neg data of bone loss proteins\n",
        "\n",
        "df_neg = pd.concat([df_neg1, df_neg2, df_neg3], ignore_index=True)"
      ],
      "metadata": {
        "colab": {
          "base_uri": "https://localhost:8080/"
        },
        "id": "dM66L2YFU1IH",
        "outputId": "3a366c24-1e87-4e3b-a6bd-0250809c701f"
      },
      "execution_count": null,
      "outputs": [
        {
          "output_type": "execute_result",
          "data": {
            "text/plain": [
              "(45, 1024)"
            ]
          },
          "metadata": {},
          "execution_count": 221
        }
      ]
    },
    {
      "cell_type": "markdown",
      "metadata": {
        "id": "Q9BzWN5qs1Hv"
      },
      "source": [
        "## Balanced training dataset construction"
      ]
    },
    {
      "cell_type": "code",
      "execution_count": null,
      "metadata": {
        "id": "Rk_6qJkth0Wn"
      },
      "outputs": [],
      "source": [
        "X1 = df_pos.to_numpy(dtype='float')\n",
        "X0 = df_neg.to_numpy(dtype='float')"
      ]
    },
    {
      "cell_type": "code",
      "execution_count": null,
      "metadata": {
        "id": "c-ljBlag9zc8"
      },
      "outputs": [],
      "source": [
        "\n",
        "Y1 = [1 for i in range(X1.shape[0])]\n",
        "Y0 = [0 for i in range(X0.shape[0])]"
      ]
    },
    {
      "cell_type": "code",
      "execution_count": null,
      "metadata": {
        "id": "4K1d0TBi-YJX"
      },
      "outputs": [],
      "source": [
        "x0_train,x0_test,y0_train,y0_test=train_test_split(X0,Y0,test_size=0.2,shuffle=True)\n",
        "x1_train,x1_test,y1_train,y1_test=train_test_split(X1,Y1,test_size=0.2,shuffle=True)\n",
        "del X0\n",
        "del Y0\n",
        "del X1\n",
        "del Y1"
      ]
    },
    {
      "cell_type": "code",
      "execution_count": null,
      "metadata": {
        "id": "QQAvjFGTaAYQ"
      },
      "outputs": [],
      "source": [
        "dataset1p,label1p=makedatasetPos(x1_train)\n",
        "dataset0p,label0p=makedatasetPos(x0_train)\n",
        "datasetn,labeln=makedatasetNeg(x0_train,x1_train)\n",
        "main_train1p=np.asarray(dataset1p)\n",
        "main_train0p=np.asarray(dataset0p)\n",
        "main_trainn=np.asarray(datasetn)\n",
        "main_labeln=np.asarray(labeln)\n",
        "main_label1p=np.asarray(label1p)\n",
        "main_label0p=np.asarray(label0p)\n",
        "\n",
        "del dataset1p\n",
        "del dataset0p\n",
        "del datasetn\n",
        "del labeln\n",
        "del label1p\n",
        "del label0p"
      ]
    },
    {
      "cell_type": "markdown",
      "metadata": {
        "id": "YoVr0KLlgruy"
      },
      "source": [
        "# SimPep framework"
      ]
    },
    {
      "cell_type": "markdown",
      "source": [
        "## SimPep-Net"
      ],
      "metadata": {
        "id": "iXMfVqWjCuS3"
      }
    },
    {
      "cell_type": "code",
      "execution_count": null,
      "metadata": {
        "id": "kFsPYVnps12q",
        "colab": {
          "base_uri": "https://localhost:8080/",
          "height": 88
        },
        "outputId": "4a2b4eae-d029-4b33-c7f8-e4f51bb18454"
      },
      "outputs": [
        {
          "output_type": "stream",
          "name": "stderr",
          "text": [
            "/usr/local/lib/python3.10/dist-packages/keras/src/layers/core/dense.py:87: UserWarning: Do not pass an `input_shape`/`input_dim` argument to a layer. When using Sequential models, prefer using an `Input(shape)` object as the first layer in the model instead.\n",
            "  super().__init__(activity_regularizer=activity_regularizer, **kwargs)\n"
          ]
        },
        {
          "output_type": "execute_result",
          "data": {
            "image/png": "[encoded data removed]",
            "text/plain": [
              "<IPython.core.display.Image object>"
            ]
          },
          "metadata": {},
          "execution_count": 25
        }
      ],
      "source": [
        "input_shape1=(len(x0_train[0]),)\n",
        "left_input = Input(shape=(len(x0_train[0]),))\n",
        "right_input = Input(shape=(len(x0_train[0]),))\n",
        "\n",
        "\n",
        "hidden_size11=512\n",
        "hidden_size12=128\n",
        "hidden_size13=64\n",
        "hidden_size14=32\n",
        "\n",
        "\n",
        "\n",
        "\n",
        "\n",
        "model = tf.keras.models.Sequential([\n",
        "    tf.keras.layers.Dense(hidden_size11,input_shape=input_shape1,  activation='relu'),\n",
        "    tf.keras.layers.Dropout(0.2),\n",
        "    tf.keras.layers.Dense(hidden_size12, activation='relu'),\n",
        "    tf.keras.layers.Dropout(0.2),\n",
        "    tf.keras.layers.Dense(hidden_size13, activation='relu'),\n",
        "    tf.keras.layers.Dropout(0.2),\n",
        "    tf.keras.layers.Dense(hidden_size14, activation='relu'),\n",
        "])\n",
        "\n",
        "\n",
        "encoded_l = model(left_input)\n",
        "encoded_r = model(right_input)\n",
        "\n",
        "L1 = tf.keras.layers.Lambda (lambda x: K.abs(x[0]-x[1]))([encoded_l, encoded_r])\n",
        "L1_D=tf.keras.layers.Dropout(0.2)(L1)\n",
        "L2 = tf.keras.layers.Dense(16, activation='relu')(L1_D)\n",
        "L2_D=tf.keras.layers.Dropout(0.2)(L2)\n",
        "L3 = tf.keras.layers.Dense(16, activation='relu')(L2_D)\n",
        "L3_D=tf.keras.layers.Dropout(0.2)(L3)\n",
        "L4 = tf.keras.layers.Dense(16, activation='relu')(L3_D)\n",
        "L4_D=tf.keras.layers.Dropout(0.2)(L4)\n",
        "L5 = tf.keras.layers.Dense(8, activation='relu')(L4_D)\n",
        "L5_D=tf.keras.layers.Dropout(0.2)(L5)\n",
        "L6 = tf.keras.layers.Dense(1, activation='relu')(L1_D)\n",
        "\n",
        "prediction = tf.keras.layers.Dense(1, activation='sigmoid')(L1_D)\n",
        "\n",
        "\n",
        "siamese_net = tf.keras.Model([left_input, right_input], prediction)\n",
        "\n",
        "optimizer= Adam(learning_rate=0.0001)\n",
        "siamese_net.compile(loss='binary_crossentropy', optimizer=optimizer, metrics=[\"accuracy\", \"mae\", \"mse\"])\n",
        "\n",
        "optimizer = Adam(learning_rate = 0.0001)\n",
        "model.compile(loss=\"kl_divergence\",optimizer=optimizer)\n",
        "\n",
        "\n",
        "\n",
        "plot_model(siamese_net, show_shapes=True, show_layer_names=True)\n",
        "#siamese_net.summary()"
      ]
    },
    {
      "cell_type": "markdown",
      "metadata": {
        "id": "4UtDlZG_tKb5"
      },
      "source": [
        "## Training optimization"
      ]
    },
    {
      "cell_type": "code",
      "execution_count": null,
      "metadata": {
        "colab": {
          "base_uri": "https://localhost:8080/"
        },
        "id": "82_V4DdoShMg",
        "outputId": "fdf5126b-4c13-4e3f-9426-fa032fbd0ef8"
      },
      "outputs": [
        {
          "name": "stdout",
          "output_type": "stream",
          "text": [
            "P1 2016 P0 2016\n",
            "4032 4032\n",
            "Epoch 1/5\n",
            "\u001b[1m63/63\u001b[0m \u001b[32m━━━━━━━━━━━━━━━━━━━━\u001b[0m\u001b[37m\u001b[0m \u001b[1m2s\u001b[0m 24ms/step - accuracy: 0.5814 - loss: 0.0000e+00 - mae: 0.4912 - mse: 0.2431\n",
            "Epoch 2/5\n",
            "\u001b[1m63/63\u001b[0m \u001b[32m━━━━━━━━━━━━━━━━━━━━\u001b[0m\u001b[37m\u001b[0m \u001b[1m2s\u001b[0m 34ms/step - accuracy: 0.6264 - loss: 0.0000e+00 - mae: 0.4772 - mse: 0.2333\n",
            "Epoch 3/5\n",
            "\u001b[1m63/63\u001b[0m \u001b[32m━━━━━━━━━━━━━━━━━━━━\u001b[0m\u001b[37m\u001b[0m \u001b[1m3s\u001b[0m 39ms/step - accuracy: 0.6749 - loss: 0.0000e+00 - mae: 0.4576 - mse: 0.2217\n",
            "Epoch 4/5\n",
            "\u001b[1m63/63\u001b[0m \u001b[32m━━━━━━━━━━━━━━━━━━━━\u001b[0m\u001b[37m\u001b[0m \u001b[1m2s\u001b[0m 26ms/step - accuracy: 0.7162 - loss: 0.0000e+00 - mae: 0.4265 - mse: 0.2025\n",
            "Epoch 5/5\n",
            "\u001b[1m63/63\u001b[0m \u001b[32m━━━━━━━━━━━━━━━━━━━━\u001b[0m\u001b[37m\u001b[0m \u001b[1m2s\u001b[0m 22ms/step - accuracy: 0.7624 - loss: 0.0000e+00 - mae: 0.3946 - mse: 0.1829\n",
            "72\n",
            "68\n",
            "63\n",
            "58\n",
            "P1 2016 P0 2016\n",
            "8064\n",
            "Epoch 1/5\n",
            "\u001b[1m63/63\u001b[0m \u001b[32m━━━━━━━━━━━━━━━━━━━━\u001b[0m\u001b[37m\u001b[0m \u001b[1m1s\u001b[0m 23ms/step - accuracy: 0.7973 - loss: 0.0000e+00 - mae: 0.3615 - mse: 0.1641\n",
            "Epoch 2/5\n",
            "\u001b[1m63/63\u001b[0m \u001b[32m━━━━━━━━━━━━━━━━━━━━\u001b[0m\u001b[37m\u001b[0m \u001b[1m1s\u001b[0m 23ms/step - accuracy: 0.8355 - loss: 0.0000e+00 - mae: 0.3223 - mse: 0.1391\n",
            "Epoch 3/5\n",
            "\u001b[1m63/63\u001b[0m \u001b[32m━━━━━━━━━━━━━━━━━━━━\u001b[0m\u001b[37m\u001b[0m \u001b[1m2s\u001b[0m 23ms/step - accuracy: 0.8701 - loss: 0.0000e+00 - mae: 0.2761 - mse: 0.1140\n",
            "Epoch 4/5\n",
            "\u001b[1m63/63\u001b[0m \u001b[32m━━━━━━━━━━━━━━━━━━━━\u001b[0m\u001b[37m\u001b[0m \u001b[1m4s\u001b[0m 38ms/step - accuracy: 0.9009 - loss: 0.0000e+00 - mae: 0.2387 - mse: 0.0937\n",
            "Epoch 5/5\n",
            "\u001b[1m63/63\u001b[0m \u001b[32m━━━━━━━━━━━━━━━━━━━━\u001b[0m\u001b[37m\u001b[0m \u001b[1m2s\u001b[0m 39ms/step - accuracy: 0.9268 - loss: 0.0000e+00 - mae: 0.1952 - mse: 0.0735\n",
            "1\n",
            "90\n",
            "87\n",
            "84\n",
            "80\n",
            "P1 2016 P0 2016\n",
            "8064\n",
            "Epoch 1/5\n",
            "\u001b[1m63/63\u001b[0m \u001b[32m━━━━━━━━━━━━━━━━━━━━\u001b[0m\u001b[37m\u001b[0m \u001b[1m1s\u001b[0m 23ms/step - accuracy: 0.9332 - loss: 0.0000e+00 - mae: 0.1709 - mse: 0.0640\n",
            "Epoch 2/5\n",
            "\u001b[1m63/63\u001b[0m \u001b[32m━━━━━━━━━━━━━━━━━━━━\u001b[0m\u001b[37m\u001b[0m \u001b[1m1s\u001b[0m 23ms/step - accuracy: 0.9485 - loss: 0.0000e+00 - mae: 0.1428 - mse: 0.0507\n",
            "Epoch 3/5\n",
            "\u001b[1m63/63\u001b[0m \u001b[32m━━━━━━━━━━━━━━━━━━━━\u001b[0m\u001b[37m\u001b[0m \u001b[1m1s\u001b[0m 23ms/step - accuracy: 0.9545 - loss: 0.0000e+00 - mae: 0.1200 - mse: 0.0410\n",
            "Epoch 4/5\n",
            "\u001b[1m63/63\u001b[0m \u001b[32m━━━━━━━━━━━━━━━━━━━━\u001b[0m\u001b[37m\u001b[0m \u001b[1m1s\u001b[0m 23ms/step - accuracy: 0.9711 - loss: 0.0000e+00 - mae: 0.0995 - mse: 0.0301\n",
            "Epoch 5/5\n",
            "\u001b[1m63/63\u001b[0m \u001b[32m━━━━━━━━━━━━━━━━━━━━\u001b[0m\u001b[37m\u001b[0m \u001b[1m3s\u001b[0m 23ms/step - accuracy: 0.9741 - loss: 0.0000e+00 - mae: 0.0841 - mse: 0.0257\n",
            "2\n",
            "96\n",
            "95\n",
            "94\n",
            "93\n",
            "P1 2016 P0 2016\n",
            "8064\n",
            "Epoch 1/5\n",
            "\u001b[1m63/63\u001b[0m \u001b[32m━━━━━━━━━━━━━━━━━━━━\u001b[0m\u001b[37m\u001b[0m \u001b[1m2s\u001b[0m 28ms/step - accuracy: 0.9773 - loss: 0.0000e+00 - mae: 0.0736 - mse: 0.0231\n",
            "Epoch 2/5\n",
            "\u001b[1m63/63\u001b[0m \u001b[32m━━━━━━━━━━━━━━━━━━━━\u001b[0m\u001b[37m\u001b[0m \u001b[1m3s\u001b[0m 39ms/step - accuracy: 0.9809 - loss: 0.0000e+00 - mae: 0.0655 - mse: 0.0191\n",
            "Epoch 3/5\n",
            "\u001b[1m63/63\u001b[0m \u001b[32m━━━━━━━━━━━━━━━━━━━━\u001b[0m\u001b[37m\u001b[0m \u001b[1m2s\u001b[0m 27ms/step - accuracy: 0.9832 - loss: 0.0000e+00 - mae: 0.0569 - mse: 0.0169\n",
            "Epoch 4/5\n",
            "\u001b[1m63/63\u001b[0m \u001b[32m━━━━━━━━━━━━━━━━━━━━\u001b[0m\u001b[37m\u001b[0m \u001b[1m1s\u001b[0m 23ms/step - accuracy: 0.9869 - loss: 0.0000e+00 - mae: 0.0474 - mse: 0.0126\n",
            "Epoch 5/5\n",
            "\u001b[1m63/63\u001b[0m \u001b[32m━━━━━━━━━━━━━━━━━━━━\u001b[0m\u001b[37m\u001b[0m \u001b[1m1s\u001b[0m 23ms/step - accuracy: 0.9857 - loss: 0.0000e+00 - mae: 0.0434 - mse: 0.0131\n",
            "3\n",
            "98\n",
            "98\n",
            "98\n",
            "97\n",
            "P1 2016 P0 2016\n",
            "8064\n",
            "Epoch 1/5\n",
            "\u001b[1m63/63\u001b[0m \u001b[32m━━━━━━━━━━━━━━━━━━━━\u001b[0m\u001b[37m\u001b[0m \u001b[1m1s\u001b[0m 23ms/step - accuracy: 0.9894 - loss: 0.0000e+00 - mae: 0.0374 - mse: 0.0102\n",
            "Epoch 2/5\n",
            "\u001b[1m63/63\u001b[0m \u001b[32m━━━━━━━━━━━━━━━━━━━━\u001b[0m\u001b[37m\u001b[0m \u001b[1m2s\u001b[0m 23ms/step - accuracy: 0.9915 - loss: 0.0000e+00 - mae: 0.0325 - mse: 0.0083\n",
            "Epoch 3/5\n",
            "\u001b[1m63/63\u001b[0m \u001b[32m━━━━━━━━━━━━━━━━━━━━\u001b[0m\u001b[37m\u001b[0m \u001b[1m2s\u001b[0m 34ms/step - accuracy: 0.9903 - loss: 0.0000e+00 - mae: 0.0321 - mse: 0.0091\n",
            "Epoch 4/5\n",
            "\u001b[1m63/63\u001b[0m \u001b[32m━━━━━━━━━━━━━━━━━━━━\u001b[0m\u001b[37m\u001b[0m \u001b[1m2s\u001b[0m 38ms/step - accuracy: 0.9929 - loss: 0.0000e+00 - mae: 0.0288 - mse: 0.0073\n",
            "Epoch 5/5\n",
            "\u001b[1m63/63\u001b[0m \u001b[32m━━━━━━━━━━━━━━━━━━━━\u001b[0m\u001b[37m\u001b[0m \u001b[1m2s\u001b[0m 36ms/step - accuracy: 0.9914 - loss: 0.0000e+00 - mae: 0.0268 - mse: 0.0076\n",
            "4\n",
            "99\n",
            "98\n",
            "99\n",
            "98\n",
            "P1 2016 P0 2016\n",
            "8064\n",
            "Epoch 1/5\n",
            "\u001b[1m63/63\u001b[0m \u001b[32m━━━━━━━━━━━━━━━━━━━━\u001b[0m\u001b[37m\u001b[0m \u001b[1m1s\u001b[0m 23ms/step - accuracy: 0.9900 - loss: 0.0000e+00 - mae: 0.0276 - mse: 0.0088\n",
            "Epoch 2/5\n",
            "\u001b[1m63/63\u001b[0m \u001b[32m━━━━━━━━━━━━━━━━━━━━\u001b[0m\u001b[37m\u001b[0m \u001b[1m3s\u001b[0m 23ms/step - accuracy: 0.9956 - loss: 0.0000e+00 - mae: 0.0207 - mse: 0.0048\n",
            "Epoch 3/5\n",
            "\u001b[1m63/63\u001b[0m \u001b[32m━━━━━━━━━━━━━━━━━━━━\u001b[0m\u001b[37m\u001b[0m \u001b[1m3s\u001b[0m 23ms/step - accuracy: 0.9915 - loss: 0.0000e+00 - mae: 0.0232 - mse: 0.0075\n",
            "Epoch 4/5\n",
            "\u001b[1m63/63\u001b[0m \u001b[32m━━━━━━━━━━━━━━━━━━━━\u001b[0m\u001b[37m\u001b[0m \u001b[1m3s\u001b[0m 23ms/step - accuracy: 0.9911 - loss: 0.0000e+00 - mae: 0.0230 - mse: 0.0072\n",
            "Epoch 5/5\n",
            "\u001b[1m63/63\u001b[0m \u001b[32m━━━━━━━━━━━━━━━━━━━━\u001b[0m\u001b[37m\u001b[0m \u001b[1m2s\u001b[0m 36ms/step - accuracy: 0.9947 - loss: 0.0000e+00 - mae: 0.0192 - mse: 0.0052\n",
            "5\n",
            "99\n",
            "99\n",
            "99\n",
            "99\n"
          ]
        }
      ],
      "source": [
        "from tensorflow.keras.callbacks import  History\n",
        "Epoch=5\n",
        "history=History()\n",
        "train,label=MakeDatasetforTrain(main_train1p,main_train0p,main_trainn,main_label1p,main_label0p,main_labeln)\n",
        "main_trainL1=np.array(train[:,0:int(len(train[0])/2)])\n",
        "main_trainR1=np.array(train[:,int(len(train[0])/2):len(train[0])])\n",
        "main_label1=np.array(label)\n",
        "count1 = np.count_nonzero(main_label1 == 1)\n",
        "count0 = np.count_nonzero(main_label1 == 0)\n",
        "print(count1 , count0)\n",
        "\n",
        "P = siamese_net.fit([main_trainL1, main_trainR1],main_label1, epochs= Epoch,batch_size=128, callbacks=history)\n",
        "for j in range(1000):\n",
        "  C=1\n",
        "  Before=int(P.history['accuracy'][-1]*100)\n",
        "  for i in range(2,Epoch+1):\n",
        "    if  int(P.history['accuracy'][-i]*100)==Before:\n",
        "      C=C+1\n",
        "    else:\n",
        "      C=1\n",
        "    Before=int(P.history['accuracy'][-i]*100)\n",
        "    print(Before)\n",
        "  if C==5:\n",
        "    break\n",
        "\n",
        "  train,label=MakeDatasetforTrain(main_train1p,main_train0p,main_trainn,main_label1p,main_label0p,main_labeln)\n",
        "  main_trainL1=np.array(train[:,0:int(len(train[0])/2)])\n",
        "  main_trainR1=np.array(train[:,int(len(train[0])/2):len(train[0])])\n",
        "  main_label1=np.array(label)\n",
        "  P = siamese_net.fit([main_trainL1, main_trainR1], main_label1,batch_size=128, epochs=Epoch, callbacks=history)\n",
        "  print(j+1)"
      ]
    },
    {
      "cell_type": "code",
      "execution_count": null,
      "metadata": {
        "id": "jpNlmIcEDhS5"
      },
      "outputs": [],
      "source": [
        "# removing unnecceasary variables to reduce the RAM usage\n",
        "del df_neg, df_pos, main_train0p, main_label1, main_label0p, main_label1p, main_trainL1, main_trainR1, main_train1p"
      ]
    },
    {
      "cell_type": "markdown",
      "source": [
        "## SimPep-Net validation"
      ],
      "metadata": {
        "id": "BCessopCj-xw"
      }
    },
    {
      "cell_type": "code",
      "execution_count": null,
      "metadata": {
        "id": "pqwpLMr7xvXe"
      },
      "outputs": [],
      "source": [
        "main_test2,main_label_test2=InternalTest(x1_test,x0_test)\n",
        "y_pred=siamese_net.predict([np.array(main_test2[:,0:int(len(main_test2[0])/2)]),np.array(main_test2[:,int(len(main_test2[0])/2):len(main_test2[0])])])\n",
        "Accuracy(main_label_test2, y_pred)\n",
        "del main_test2,main_label_test2, y_pred\n"
      ]
    },
    {
      "cell_type": "markdown",
      "source": [
        "## OPD Prediction"
      ],
      "metadata": {
        "id": "nkXXH77mkKq4"
      }
    },
    {
      "cell_type": "code",
      "execution_count": null,
      "metadata": {
        "colab": {
          "base_uri": "https://localhost:8080/"
        },
        "id": "pU3it-E0pMs0",
        "outputId": "c07a5bf9-80fd-4dc7-b7db-a7ea17805d65"
      },
      "outputs": [
        {
          "name": "stdout",
          "output_type": "stream",
          "text": [
            "AUC:  0.7361990950226245 AUPR:  0.47007176143145624\n",
            "ACC: 91.15646258503402 Spc: 0.9769230769230769 Sen:  0.4117647058823529 TN: 127 FP:  3 FN 10 TP 7\n"
          ]
        }
      ],
      "source": [
        "main_test1,main_label_test1,Indexsample=ExternalTest(x0_test,x1_test,x0_train,x1_train)\n",
        "y_pred=siamese_net.predict([np.array(main_test1[:,0:int(len(main_test1[0])/2)]),np.array(main_test1[:,int(len(main_test1[0])/2):len(main_test1[0])])])\n",
        "Pred,Label=DefineTest2(x0_test,x1_test,Indexsample,y_pred)\n",
        "del main_test1,main_label_test1,Indexsample\n",
        "Accuracy(Label, Pred)\n",
        "del Label, Pred"
      ]
    },
    {
      "cell_type": "code",
      "execution_count": null,
      "metadata": {
        "id": "TV0rRAPjy22k"
      },
      "outputs": [],
      "source": [
        "## Checking for case study\n",
        "df_test = pd.read_csv('vec_case_study.txt', sep=\"\\t\", header=None)\n",
        "X=np.asarray(df_test)\n",
        "\n"
      ]
    },
    {
      "cell_type": "code",
      "execution_count": null,
      "metadata": {
        "colab": {
          "base_uri": "https://localhost:8080/"
        },
        "id": "vjqZf2chswpI",
        "outputId": "d825eff7-6e1b-45a9-d7ec-6c2a1358aa85"
      },
      "outputs": [
        {
          "name": "stdout",
          "output_type": "stream",
          "text": [
            ">camel-beta-peptide 5 [0.8872845]\n",
            ">bovin-beta-peptide 7 [0.86403257]\n",
            ">human-beta-peptide 3 [0.87967134]\n",
            ">human-kappa-peptide 11 [0.90156937]\n"
          ]
        }
      ],
      "source": [
        "main_test,IndexsampleTest=RealTest(X,x0_train,x1_train)\n",
        "main_tesxLX=np.array(main_test[:,0:int(len(main_test[0])/2)])\n",
        "main_testRX=np.array(main_test[:,int(len(main_test[0])/2):len(main_test[0])])\n",
        "y_pred=siamese_net.predict([main_tesxLX,main_testRX])\n",
        "y_pred=RealPredict(X,y_pred,IndexsampleTest)\n",
        "SelectName(y_pred,0.8)"
      ]
    },
    {
      "cell_type": "code",
      "execution_count": null,
      "metadata": {
        "id": "FRazW32P5m7-"
      },
      "outputs": [],
      "source": [
        "del y_pred, X, main_tesxLX,main_testRX"
      ]
    },
    {
      "cell_type": "code",
      "execution_count": null,
      "metadata": {
        "id": "UYR7pfIDM6Sc"
      },
      "outputs": [],
      "source": [
        "del IndexsampleTest, history, label, main_trainn"
      ]
    },
    {
      "cell_type": "markdown",
      "metadata": {
        "id": "-yOaLHZgGWcV"
      },
      "source": [
        "\n",
        "\n",
        "# External test sets\n"
      ]
    },
    {
      "cell_type": "code",
      "execution_count": null,
      "metadata": {
        "id": "oWOeuYPQCafR"
      },
      "outputs": [],
      "source": [
        "# Experminetal_negative_vec: the ProtBert-based vector of experimental negative data\n",
        "\n",
        "df_test2 = pd.read_csv('Experminetal_negative_vec.txt', header=None)\n",
        "\n",
        "X_new_neg = np.asarray(df_test2)\n"
      ]
    },
    {
      "cell_type": "code",
      "execution_count": null,
      "metadata": {
        "colab": {
          "base_uri": "https://localhost:8080/"
        },
        "id": "Kem6pwKk7chc",
        "outputId": "272360b2-0dac-4e96-bf60-b80c7e0322fa"
      },
      "outputs": [
        {
          "data": {
            "text/plain": [
              "[array([0.22340016], dtype=float32),\n",
              " array([0.13297284], dtype=float32),\n",
              " array([0.10937601], dtype=float32),\n",
              " array([0.88242143], dtype=float32)]"
            ]
          },
          "execution_count": 132,
          "metadata": {},
          "output_type": "execute_result"
        }
      ],
      "source": [
        "main_test,IndexsampleTest=RealTest(X_new_neg,x0_train,x1_train)\n",
        "main_tesxLX=np.array(main_test[:,0:int(len(main_test[0])/2)])\n",
        "main_testRX=np.array(main_test[:,int(len(main_test[0])/2):len(main_test[0])])\n",
        "y_pred=siamese_net.predict([main_tesxLX,main_testRX])\n",
        "y_pred=RealPredict(X_new_neg,y_pred,IndexsampleTest)\n",
        "y_pred"
      ]
    },
    {
      "cell_type": "code",
      "execution_count": null,
      "metadata": {
        "id": "S_XQ_8dSBtLz"
      },
      "outputs": [],
      "source": [
        "# new_OP_vec: the ProtBert-based vector of Ops from 2022 to 2024\n",
        "# For this assessment, the model should be trained first without this data\n",
        "\n",
        "df_test = pd.read_csv('new_OP_vec.txt', sep=\"\\t\", header=None)\n",
        "X_new_pos=np.asarray(df_test)"
      ]
    },
    {
      "cell_type": "code",
      "execution_count": null,
      "metadata": {
        "id": "WWw9nZ81X0gW"
      },
      "outputs": [],
      "source": [
        "main_test,IndexsampleTest=RealTest(X_new_pos,x0_train,x1_train)\n",
        "main_tesxLX=np.array(main_test[:,0:int(len(main_test[0])/2)])\n",
        "main_testRX=np.array(main_test[:,int(len(main_test[0])/2):len(main_test[0])])"
      ]
    },
    {
      "cell_type": "code",
      "execution_count": null,
      "metadata": {
        "colab": {
          "base_uri": "https://localhost:8080/"
        },
        "id": "olWy_OdJ7O-s",
        "outputId": "dbad080e-b4f5-467d-e35a-18606fb8406c"
      },
      "outputs": [
        {
          "data": {
            "text/plain": [
              "[array([0.93163073], dtype=float32),\n",
              " array([0.2837767], dtype=float32),\n",
              " array([0.17874585], dtype=float32),\n",
              " array([0.16910979], dtype=float32),\n",
              " array([0.17543823], dtype=float32),\n",
              " array([0.15224825], dtype=float32),\n",
              " array([0.1593636], dtype=float32),\n",
              " array([0.85469], dtype=float32),\n",
              " array([0.89563197], dtype=float32),\n",
              " array([0.87257445], dtype=float32),\n",
              " array([0.8969664], dtype=float32),\n",
              " array([0.9104396], dtype=float32),\n",
              " array([0.9180465], dtype=float32),\n",
              " array([0.12953553], dtype=float32),\n",
              " array([0.86453176], dtype=float32),\n",
              " array([0.18906485], dtype=float32),\n",
              " array([0.18737742], dtype=float32),\n",
              " array([0.17875192], dtype=float32),\n",
              " array([0.5052275], dtype=float32),\n",
              " array([0.20020354], dtype=float32),\n",
              " array([0.2154391], dtype=float32),\n",
              " array([0.16753079], dtype=float32),\n",
              " array([0.50195324], dtype=float32),\n",
              " array([0.27825797], dtype=float32),\n",
              " array([0.18382709], dtype=float32),\n",
              " array([0.15432584], dtype=float32),\n",
              " array([0.16753079], dtype=float32)]"
            ]
          },
          "execution_count": 137,
          "metadata": {},
          "output_type": "execute_result"
        }
      ],
      "source": [
        "y_pred=siamese_net.predict([main_tesxLX,main_testRX])\n",
        "y_pred=RealPredict(X_new_pos,y_pred,IndexsampleTest)\n",
        "y_pred"
      ]
    }
  ],
  "metadata": {
    "colab": {
      "collapsed_sections": [
        "5WyK-SOaWwIw",
        "Vj5xqhJLCL-D",
        "Q9BzWN5qs1Hv",
        "-yOaLHZgGWcV"
      ],
      "provenance": []
    },
    "kernelspec": {
      "display_name": "Python 3",
      "name": "python3"
    },
    "language_info": {
      "name": "python"
    }
  },
  "nbformat": 4,
  "nbformat_minor": 0
}